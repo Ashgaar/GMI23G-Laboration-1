{
 "cells": [
  {
   "cell_type": "markdown",
   "metadata": {},
   "source": [
    "# GMI23G Logic and Mathematics for Computer Science\n",
    "## Dalarna University, P3 spring 2022 -- Priyanka Mehra, Joonas Pääkkönen\n",
    "\n",
    "# Python Lab 1/4\n",
    "### Deadline: January 30, 2022, 23:59 CET time\n",
    "\n",
    "### Student name: Mikael Olsson\n",
    "### DU email address: h20mikol@du.se"
   ]
  },
  {
   "cell_type": "markdown",
   "metadata": {},
   "source": [
    "Upload this file with your solutions to Learn by the deadline. These labs may be discussed with fellow students, but each student must submit his or her individual solutions. Sage builds on NumPy, SciPy, etc. and is required for some of the labs. Submit your lab solutions to Learn with\n",
    "\n",
    "file name format: labX firstname lastname studentid.ipynb\n",
    "\n",
    "for example: lab1 lars larsson v21abcde.ipynb\n",
    "\n",
    "in the original .ipynb notebook document format. Add your name and email address to the header. Add your answers in Python with comments in English (or Swedish). Note: only one submission is allowed per deadline. Do not submit without proofreading your work. Make sure that your code runs."
   ]
  },
  {
   "cell_type": "markdown",
   "metadata": {},
   "source": [
    "In several of the exercises you will do over the next weeks, the integers you are dealing with get quite big. You might need to use long integers, otherwise you will be a bit restricted.\n",
    "\n",
    "A folder to upload solutions will be opened on Learn soon."
   ]
  },
  {
   "cell_type": "markdown",
   "metadata": {},
   "source": [
    "## Task 1"
   ]
  },
  {
   "cell_type": "markdown",
   "metadata": {},
   "source": [
    "Solve for $x$.\n",
    "\n",
    "a) $\\sqrt{x}=2$\n",
    "\n",
    "b) $e^{2x}=5$\n",
    "\n",
    "c) $\\sin{x}=1$\n",
    "\n"
   ]
  },
  {
   "cell_type": "code",
   "execution_count": 105,
   "metadata": {},
   "outputs": [
    {
     "name": "stdout",
     "output_type": "stream",
     "text": [
      "Solution to a: x == 4\n",
      "Solutions to b: x == log(-sqrt(5)) and x == 1/2*log(5)\n",
      "Solution to c: x == 1/2*pi\n"
     ]
    }
   ],
   "source": [
    "solutions = []\n",
    "# a\n",
    "a = solve([sqrt(x)==2],x)\n",
    "\n",
    "# b\n",
    "b = solve([e^(2 * x) == 5],x)\n",
    "\n",
    "# c\n",
    "c = solve([sin(x) == 1], x)\n",
    "\n",
    "print(f'Solution to a: {a[0]}')\n",
    "print(f'Solutions to b: {b[0]} and {b[1]}')\n",
    "print(f'Solution to c: {c[0]}')"
   ]
  },
  {
   "cell_type": "markdown",
   "metadata": {},
   "source": [
    "## Task 2"
   ]
  },
  {
   "cell_type": "markdown",
   "metadata": {},
   "source": [
    "Let $f(z) = z(z+1)$.\n",
    "\n",
    "a) Print the numerical value of $f(10)$.\n",
    "\n",
    "b) Plot $f(z)$, with $z\\in[0,3]$, using the plot() function."
   ]
  },
  {
   "cell_type": "code",
   "execution_count": 106,
   "metadata": {},
   "outputs": [
    {
     "name": "stdout",
     "output_type": "stream",
     "text": [
      "Solution to a: 110\n",
      "Solution to b:\n"
     ]
    },
    {
     "data": {
      "image/png": "[encoded data removed]",
      "text/plain": [
       "Graphics object consisting of 1 graphics primitive"
      ]
     },
     "metadata": {},
     "output_type": "display_data"
    }
   ],
   "source": [
    "from matplotlib import pyplot as plt\n",
    "\n",
    "f(z) = z*(z+1)\n",
    "\n",
    "print(f'Solution to a: {f(10)}')\n",
    "print(f'Solution to b:')\n",
    "\n",
    "G = plot(f(z),(0,3))\n",
    "G.show()"
   ]
  },
  {
   "cell_type": "markdown",
   "metadata": {},
   "source": [
    "## Task 3"
   ]
  },
  {
   "cell_type": "markdown",
   "metadata": {},
   "source": [
    "Let $f(x)= \\sin x \\cos x \\tan x$. Integrate and differentiate $f(x)$ w.r.t $x$."
   ]
  },
  {
   "cell_type": "code",
   "execution_count": 107,
   "metadata": {},
   "outputs": [
    {
     "name": "stdout",
     "output_type": "stream",
     "text": [
      "Integration:\n",
      "x |--> 1/2*x - 1/4*sin(2*x)\n",
      "\n",
      "Differentiation:\n",
      "x |--> (tan(x)^2 + 1)*cos(x)*sin(x) + cos(x)^2*tan(x) - sin(x)^2*tan(x)\n"
     ]
    }
   ],
   "source": [
    "f(x) = sin(x) * cos(x) * tan(x)\n",
    "\n",
    "print(\"Integration:\")\n",
    "print(f.integral(x))\n",
    "print()\n",
    "print(\"Differentiation:\")\n",
    "print(f.diff(x))"
   ]
  },
  {
   "cell_type": "markdown",
   "metadata": {},
   "source": [
    "## Task 4"
   ]
  },
  {
   "cell_type": "markdown",
   "metadata": {},
   "source": [
    "Perform the following operations on the two matrices defined below and print the resultant matrices.\n",
    "\n",
    "1. $A+B$\n",
    "2. $A-B$\n",
    "3. $AB$, where\n",
    "\n",
    "$$\n",
    "A = \\begin{pmatrix}\n",
    "1 & 2\\\\\n",
    "3 & 8\n",
    "\\end{pmatrix}\n",
    "$$\n",
    "\n",
    "$$\n",
    "B = \\begin{pmatrix}\n",
    "4 & 7\\\\\n",
    "10 & 9\n",
    "\\end{pmatrix}\n",
    "$$"
   ]
  },
  {
   "cell_type": "code",
   "execution_count": 108,
   "metadata": {},
   "outputs": [
    {
     "name": "stdout",
     "output_type": "stream",
     "text": [
      "1.\n",
      "[ 5  9]\n",
      "[13 17]\n",
      "\n",
      "2.\n",
      "[-3 -5]\n",
      "[-7 -1]\n",
      "\n",
      "3.\n",
      "[24 25]\n",
      "[92 93]\n"
     ]
    }
   ],
   "source": [
    "A=matrix([[1,2],[3,8]])\n",
    "B= matrix([[4,7],[10,9]])\n",
    "print(\"1.\")\n",
    "print(A + B)\n",
    "print()\n",
    "print(\"2.\")\n",
    "print(A - B)\n",
    "print()\n",
    "print(\"3.\")\n",
    "print(A * B)"
   ]
  },
  {
   "cell_type": "markdown",
   "metadata": {},
   "source": [
    "## Task 5"
   ]
  },
  {
   "cell_type": "markdown",
   "metadata": {},
   "source": [
    "Create a boolean formula and a truth table for the expression below, by using SageMath.\n",
    "\n",
    "Expression: $(A' \\land B) \\lor (A \\land B')$"
   ]
  },
  {
   "cell_type": "code",
   "execution_count": 3,
   "metadata": {
    "scrolled": true
   },
   "outputs": [
    {
     "name": "stdout",
     "output_type": "stream",
     "text": [
      "Boolean formula is: ((~A)&B)|(A&(~B))\n",
      "The truthtable is:\n",
      "A      B      value\n",
      "False  False  False  \n",
      "False  True   True   \n",
      "True   False  True   \n",
      "True   True   False  \n",
      "\n"
     ]
    }
   ],
   "source": [
    "import sage.logic.propcalc as propcalc\n",
    "\n",
    "# (NOT A AND B) OR (A AND NOT B)\n",
    "f = propcalc.formula(\"((~A)&B)|(A&(~B))\")\n",
    "print(f'Boolean formula is: {f}')\n",
    "print(f'The truthtable is:')\n",
    "print(f.truthtable())\n"
   ]
  },
  {
   "cell_type": "code",
   "execution_count": null,
   "metadata": {},
   "outputs": [],
   "source": []
  }
 ],
 "metadata": {
  "kernelspec": {
   "display_name": "SageMath 9.3",
   "language": "sage",
   "name": "sagemath"
  },
  "language_info": {
   "codemirror_mode": {
    "name": "ipython",
    "version": 3
   },
   "file_extension": ".py",
   "mimetype": "text/x-python",
   "name": "python",
   "nbconvert_exporter": "python",
   "pygments_lexer": "ipython3",
   "version": "3.7.10"
  }
 },
 "nbformat": 4,
 "nbformat_minor": 4
}
